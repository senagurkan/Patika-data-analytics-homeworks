{
 "cells": [
  {
   "cell_type": "markdown",
   "id": "076e6819-79be-44ce-befb-148aef465716",
   "metadata": {},
   "source": [
    "Titanic Ödevi - Ödev 2\n",
    "- Sena Gürkan"
   ]
  },
  {
   "cell_type": "code",
   "execution_count": 1,
   "id": "5f596232-99cb-4b7c-8816-96341d1f72b3",
   "metadata": {},
   "outputs": [
    {
     "data": {
      "text/html": [
       "<div>\n",
       "<style scoped>\n",
       "    .dataframe tbody tr th:only-of-type {\n",
       "        vertical-align: middle;\n",
       "    }\n",
       "\n",
       "    .dataframe tbody tr th {\n",
       "        vertical-align: top;\n",
       "    }\n",
       "\n",
       "    .dataframe thead th {\n",
       "        text-align: right;\n",
       "    }\n",
       "</style>\n",
       "<table border=\"1\" class=\"dataframe\">\n",
       "  <thead>\n",
       "    <tr style=\"text-align: right;\">\n",
       "      <th></th>\n",
       "      <th>PassengerId</th>\n",
       "      <th>Survived</th>\n",
       "      <th>Pclass</th>\n",
       "      <th>Name</th>\n",
       "      <th>Sex</th>\n",
       "      <th>Age</th>\n",
       "      <th>SibSp</th>\n",
       "      <th>Parch</th>\n",
       "      <th>Ticket</th>\n",
       "      <th>Fare</th>\n",
       "      <th>Cabin</th>\n",
       "      <th>Embarked</th>\n",
       "    </tr>\n",
       "  </thead>\n",
       "  <tbody>\n",
       "    <tr>\n",
       "      <th>0</th>\n",
       "      <td>1</td>\n",
       "      <td>0</td>\n",
       "      <td>3</td>\n",
       "      <td>Braund, Mr. Owen Harris</td>\n",
       "      <td>male</td>\n",
       "      <td>22.0</td>\n",
       "      <td>1</td>\n",
       "      <td>0</td>\n",
       "      <td>A/5 21171</td>\n",
       "      <td>7.2500</td>\n",
       "      <td>NaN</td>\n",
       "      <td>S</td>\n",
       "    </tr>\n",
       "    <tr>\n",
       "      <th>1</th>\n",
       "      <td>2</td>\n",
       "      <td>1</td>\n",
       "      <td>1</td>\n",
       "      <td>Cumings, Mrs. John Bradley (Florence Briggs Th...</td>\n",
       "      <td>female</td>\n",
       "      <td>38.0</td>\n",
       "      <td>1</td>\n",
       "      <td>0</td>\n",
       "      <td>PC 17599</td>\n",
       "      <td>71.2833</td>\n",
       "      <td>C85</td>\n",
       "      <td>C</td>\n",
       "    </tr>\n",
       "    <tr>\n",
       "      <th>2</th>\n",
       "      <td>3</td>\n",
       "      <td>1</td>\n",
       "      <td>3</td>\n",
       "      <td>Heikkinen, Miss. Laina</td>\n",
       "      <td>female</td>\n",
       "      <td>26.0</td>\n",
       "      <td>0</td>\n",
       "      <td>0</td>\n",
       "      <td>STON/O2. 3101282</td>\n",
       "      <td>7.9250</td>\n",
       "      <td>NaN</td>\n",
       "      <td>S</td>\n",
       "    </tr>\n",
       "    <tr>\n",
       "      <th>3</th>\n",
       "      <td>4</td>\n",
       "      <td>1</td>\n",
       "      <td>1</td>\n",
       "      <td>Futrelle, Mrs. Jacques Heath (Lily May Peel)</td>\n",
       "      <td>female</td>\n",
       "      <td>35.0</td>\n",
       "      <td>1</td>\n",
       "      <td>0</td>\n",
       "      <td>113803</td>\n",
       "      <td>53.1000</td>\n",
       "      <td>C123</td>\n",
       "      <td>S</td>\n",
       "    </tr>\n",
       "    <tr>\n",
       "      <th>4</th>\n",
       "      <td>5</td>\n",
       "      <td>0</td>\n",
       "      <td>3</td>\n",
       "      <td>Allen, Mr. William Henry</td>\n",
       "      <td>male</td>\n",
       "      <td>35.0</td>\n",
       "      <td>0</td>\n",
       "      <td>0</td>\n",
       "      <td>373450</td>\n",
       "      <td>8.0500</td>\n",
       "      <td>NaN</td>\n",
       "      <td>S</td>\n",
       "    </tr>\n",
       "  </tbody>\n",
       "</table>\n",
       "</div>"
      ],
      "text/plain": [
       "   PassengerId  Survived  Pclass  \\\n",
       "0            1         0       3   \n",
       "1            2         1       1   \n",
       "2            3         1       3   \n",
       "3            4         1       1   \n",
       "4            5         0       3   \n",
       "\n",
       "                                                Name     Sex   Age  SibSp  \\\n",
       "0                            Braund, Mr. Owen Harris    male  22.0      1   \n",
       "1  Cumings, Mrs. John Bradley (Florence Briggs Th...  female  38.0      1   \n",
       "2                             Heikkinen, Miss. Laina  female  26.0      0   \n",
       "3       Futrelle, Mrs. Jacques Heath (Lily May Peel)  female  35.0      1   \n",
       "4                           Allen, Mr. William Henry    male  35.0      0   \n",
       "\n",
       "   Parch            Ticket     Fare Cabin Embarked  \n",
       "0      0         A/5 21171   7.2500   NaN        S  \n",
       "1      0          PC 17599  71.2833   C85        C  \n",
       "2      0  STON/O2. 3101282   7.9250   NaN        S  \n",
       "3      0            113803  53.1000  C123        S  \n",
       "4      0            373450   8.0500   NaN        S  "
      ]
     },
     "execution_count": 1,
     "metadata": {},
     "output_type": "execute_result"
    }
   ],
   "source": [
    "import pandas as pd\n",
    "import numpy as np\n",
    "\n",
    "# Titanic veri setini oku\n",
    "df = pd.read_csv(\"titanic.csv\")\n",
    "\n",
    "# İlk 5 satıra bakalım\n",
    "df.head()"
   ]
  },
  {
   "cell_type": "code",
   "execution_count": 2,
   "id": "bf4da1ad-7cba-43a5-8f8f-a5cd346d2c6d",
   "metadata": {},
   "outputs": [
    {
     "name": "stdout",
     "output_type": "stream",
     "text": [
      "<class 'pandas.core.frame.DataFrame'>\n",
      "RangeIndex: 891 entries, 0 to 890\n",
      "Data columns (total 12 columns):\n",
      " #   Column       Non-Null Count  Dtype  \n",
      "---  ------       --------------  -----  \n",
      " 0   PassengerId  891 non-null    int64  \n",
      " 1   Survived     891 non-null    int64  \n",
      " 2   Pclass       891 non-null    int64  \n",
      " 3   Name         891 non-null    object \n",
      " 4   Sex          891 non-null    object \n",
      " 5   Age          714 non-null    float64\n",
      " 6   SibSp        891 non-null    int64  \n",
      " 7   Parch        891 non-null    int64  \n",
      " 8   Ticket       891 non-null    object \n",
      " 9   Fare         891 non-null    float64\n",
      " 10  Cabin        204 non-null    object \n",
      " 11  Embarked     889 non-null    object \n",
      "dtypes: float64(2), int64(5), object(5)\n",
      "memory usage: 83.7+ KB\n"
     ]
    }
   ],
   "source": [
    "# Veri seti yapısı ve eksik değer bilgileri\n",
    "df.info()"
   ]
  },
  {
   "cell_type": "code",
   "execution_count": 3,
   "id": "65c400b5-5370-440c-b877-ac6e9ffa42de",
   "metadata": {},
   "outputs": [
    {
     "data": {
      "text/html": [
       "<div>\n",
       "<style scoped>\n",
       "    .dataframe tbody tr th:only-of-type {\n",
       "        vertical-align: middle;\n",
       "    }\n",
       "\n",
       "    .dataframe tbody tr th {\n",
       "        vertical-align: top;\n",
       "    }\n",
       "\n",
       "    .dataframe thead th {\n",
       "        text-align: right;\n",
       "    }\n",
       "</style>\n",
       "<table border=\"1\" class=\"dataframe\">\n",
       "  <thead>\n",
       "    <tr style=\"text-align: right;\">\n",
       "      <th></th>\n",
       "      <th>PassengerId</th>\n",
       "      <th>Survived</th>\n",
       "      <th>Pclass</th>\n",
       "      <th>Age</th>\n",
       "      <th>SibSp</th>\n",
       "      <th>Parch</th>\n",
       "      <th>Fare</th>\n",
       "    </tr>\n",
       "  </thead>\n",
       "  <tbody>\n",
       "    <tr>\n",
       "      <th>count</th>\n",
       "      <td>891.000000</td>\n",
       "      <td>891.000000</td>\n",
       "      <td>891.000000</td>\n",
       "      <td>714.000000</td>\n",
       "      <td>891.000000</td>\n",
       "      <td>891.000000</td>\n",
       "      <td>891.000000</td>\n",
       "    </tr>\n",
       "    <tr>\n",
       "      <th>mean</th>\n",
       "      <td>446.000000</td>\n",
       "      <td>0.383838</td>\n",
       "      <td>2.308642</td>\n",
       "      <td>29.699118</td>\n",
       "      <td>0.523008</td>\n",
       "      <td>0.381594</td>\n",
       "      <td>32.204208</td>\n",
       "    </tr>\n",
       "    <tr>\n",
       "      <th>std</th>\n",
       "      <td>257.353842</td>\n",
       "      <td>0.486592</td>\n",
       "      <td>0.836071</td>\n",
       "      <td>14.526497</td>\n",
       "      <td>1.102743</td>\n",
       "      <td>0.806057</td>\n",
       "      <td>49.693429</td>\n",
       "    </tr>\n",
       "    <tr>\n",
       "      <th>min</th>\n",
       "      <td>1.000000</td>\n",
       "      <td>0.000000</td>\n",
       "      <td>1.000000</td>\n",
       "      <td>0.420000</td>\n",
       "      <td>0.000000</td>\n",
       "      <td>0.000000</td>\n",
       "      <td>0.000000</td>\n",
       "    </tr>\n",
       "    <tr>\n",
       "      <th>25%</th>\n",
       "      <td>223.500000</td>\n",
       "      <td>0.000000</td>\n",
       "      <td>2.000000</td>\n",
       "      <td>20.125000</td>\n",
       "      <td>0.000000</td>\n",
       "      <td>0.000000</td>\n",
       "      <td>7.910400</td>\n",
       "    </tr>\n",
       "    <tr>\n",
       "      <th>50%</th>\n",
       "      <td>446.000000</td>\n",
       "      <td>0.000000</td>\n",
       "      <td>3.000000</td>\n",
       "      <td>28.000000</td>\n",
       "      <td>0.000000</td>\n",
       "      <td>0.000000</td>\n",
       "      <td>14.454200</td>\n",
       "    </tr>\n",
       "    <tr>\n",
       "      <th>75%</th>\n",
       "      <td>668.500000</td>\n",
       "      <td>1.000000</td>\n",
       "      <td>3.000000</td>\n",
       "      <td>38.000000</td>\n",
       "      <td>1.000000</td>\n",
       "      <td>0.000000</td>\n",
       "      <td>31.000000</td>\n",
       "    </tr>\n",
       "    <tr>\n",
       "      <th>max</th>\n",
       "      <td>891.000000</td>\n",
       "      <td>1.000000</td>\n",
       "      <td>3.000000</td>\n",
       "      <td>80.000000</td>\n",
       "      <td>8.000000</td>\n",
       "      <td>6.000000</td>\n",
       "      <td>512.329200</td>\n",
       "    </tr>\n",
       "  </tbody>\n",
       "</table>\n",
       "</div>"
      ],
      "text/plain": [
       "       PassengerId    Survived      Pclass         Age       SibSp  \\\n",
       "count   891.000000  891.000000  891.000000  714.000000  891.000000   \n",
       "mean    446.000000    0.383838    2.308642   29.699118    0.523008   \n",
       "std     257.353842    0.486592    0.836071   14.526497    1.102743   \n",
       "min       1.000000    0.000000    1.000000    0.420000    0.000000   \n",
       "25%     223.500000    0.000000    2.000000   20.125000    0.000000   \n",
       "50%     446.000000    0.000000    3.000000   28.000000    0.000000   \n",
       "75%     668.500000    1.000000    3.000000   38.000000    1.000000   \n",
       "max     891.000000    1.000000    3.000000   80.000000    8.000000   \n",
       "\n",
       "            Parch        Fare  \n",
       "count  891.000000  891.000000  \n",
       "mean     0.381594   32.204208  \n",
       "std      0.806057   49.693429  \n",
       "min      0.000000    0.000000  \n",
       "25%      0.000000    7.910400  \n",
       "50%      0.000000   14.454200  \n",
       "75%      0.000000   31.000000  \n",
       "max      6.000000  512.329200  "
      ]
     },
     "execution_count": 3,
     "metadata": {},
     "output_type": "execute_result"
    }
   ],
   "source": [
    "# Sütunların istatistiksel özet bilgileri\n",
    "df.describe()"
   ]
  },
  {
   "cell_type": "markdown",
   "id": "93d60cf2-7f75-4776-bd35-7b32a1b69b1a",
   "metadata": {},
   "source": [
    "1- Kazada ölenlerin yaş ortalamasını bulunuz"
   ]
  },
  {
   "cell_type": "code",
   "execution_count": 4,
   "id": "cbbc65ab-0993-4aab-a122-4f3081164f05",
   "metadata": {},
   "outputs": [
    {
     "data": {
      "text/plain": [
       "30.62617924528302"
      ]
     },
     "execution_count": 4,
     "metadata": {},
     "output_type": "execute_result"
    }
   ],
   "source": [
    "# Kazada ölenlerin yaş ortalaması\n",
    "df[df[\"Survived\"] == 0][\"Age\"].mean()"
   ]
  },
  {
   "cell_type": "markdown",
   "id": "f01c388f-e101-4f94-b576-27666648e7a6",
   "metadata": {},
   "source": [
    "2- Kazada ölenlerin bilet fiyatlarının ortalamasını ve medyanını bulunuz"
   ]
  },
  {
   "cell_type": "code",
   "execution_count": 5,
   "id": "90a2f947-ccf9-408a-aa0a-151abdb84934",
   "metadata": {},
   "outputs": [
    {
     "name": "stdout",
     "output_type": "stream",
     "text": [
      "Ortalama Bilet Fiyatı: 22.117886885245902\n",
      "Medyan Bilet Fiyatı: 10.5\n"
     ]
    }
   ],
   "source": [
    "# Kazada ölenlerin bilet fiyatlarının ortalama ve medyanı\n",
    "olenler = df[df[\"Survived\"] == 0]\n",
    "\n",
    "ortalama_fiyat = olenler[\"Fare\"].mean()\n",
    "medyan_fiyat = olenler[\"Fare\"].median()\n",
    "\n",
    "print(\"Ortalama Bilet Fiyatı:\", ortalama_fiyat)\n",
    "print(\"Medyan Bilet Fiyatı:\", medyan_fiyat)"
   ]
  },
  {
   "cell_type": "markdown",
   "id": "7b008331-cffe-4658-ba4b-574bb28d247e",
   "metadata": {},
   "source": [
    "3- Kazada ölen erkeklerin yaş ortalamasını bulunuz"
   ]
  },
  {
   "cell_type": "code",
   "execution_count": 6,
   "id": "9adf19c4-eed2-4a8a-a32f-270b54f9ede8",
   "metadata": {},
   "outputs": [
    {
     "name": "stdout",
     "output_type": "stream",
     "text": [
      "Kazada ölen erkeklerin yaş ortalaması: 31.618055555555557\n"
     ]
    }
   ],
   "source": [
    "# Kazada ölen erkeklerin yaş ortalaması\n",
    "olen_erkekler = df[(df[\"Survived\"] == 0) & (df[\"Sex\"] == \"male\")]\n",
    "\n",
    "ortalama_yas_erkek = olen_erkekler[\"Age\"].mean()\n",
    "\n",
    "print(\"Kazada ölen erkeklerin yaş ortalaması:\", ortalama_yas_erkek)"
   ]
  },
  {
   "cell_type": "markdown",
   "id": "766d36c8-15ad-417b-bc18-118d4851ca86",
   "metadata": {},
   "source": [
    "4- Kazada ölen Kadınların yaş ortalamasını bulunuz"
   ]
  },
  {
   "cell_type": "code",
   "execution_count": 7,
   "id": "64d1d588-276e-47f7-ab6a-7b2c99037fd0",
   "metadata": {},
   "outputs": [
    {
     "name": "stdout",
     "output_type": "stream",
     "text": [
      "Kazada ölen kadınların yaş ortalaması: 25.046875\n"
     ]
    }
   ],
   "source": [
    "# Kazada ölen kadınların yaş ortalaması\n",
    "olen_kadinlar = df[(df[\"Survived\"] == 0) & (df[\"Sex\"] == \"female\")]\n",
    "\n",
    "ortalama_yas_kadin = olen_kadinlar[\"Age\"].mean()\n",
    "\n",
    "print(\"Kazada ölen kadınların yaş ortalaması:\", ortalama_yas_kadin)"
   ]
  },
  {
   "cell_type": "markdown",
   "id": "b571fd58-2f30-499f-a880-953b8d57df27",
   "metadata": {},
   "source": [
    "5- Kazadan kurtulanların yaş ortalamasını bulunuz"
   ]
  },
  {
   "cell_type": "code",
   "execution_count": 8,
   "id": "9aeab83d-9aa6-4253-b09b-2e294b5ff424",
   "metadata": {},
   "outputs": [
    {
     "name": "stdout",
     "output_type": "stream",
     "text": [
      "Kazadan kurtulanların yaş ortalaması: 28.343689655172415\n"
     ]
    }
   ],
   "source": [
    "# Kazadan kurtulanların yaş ortalaması\n",
    "kurtulanlar = df[df[\"Survived\"] == 1]\n",
    "\n",
    "ortalama_yas_kurtulan = kurtulanlar[\"Age\"].mean()\n",
    "\n",
    "print(\"Kazadan kurtulanların yaş ortalaması:\", ortalama_yas_kurtulan)"
   ]
  },
  {
   "cell_type": "markdown",
   "id": "b7a9f768-a863-4a71-b4f3-6a516a47f11a",
   "metadata": {},
   "source": [
    "6- Kazadan kurtulanların bilet fiyatlarının ortalamasını bulunuz"
   ]
  },
  {
   "cell_type": "code",
   "execution_count": 9,
   "id": "354681f0-9f6c-4185-9ffc-debf6148040f",
   "metadata": {},
   "outputs": [
    {
     "name": "stdout",
     "output_type": "stream",
     "text": [
      "Kazadan kurtulanların bilet fiyatı ortalaması: 48.39540760233918\n"
     ]
    }
   ],
   "source": [
    "# Kazadan kurtulanların bilet fiyatlarının ortalaması\n",
    "kurtulanlar = df[df[\"Survived\"] == 1]\n",
    "\n",
    "ortalama_fiyat_kurtulan = kurtulanlar[\"Fare\"].mean()\n",
    "\n",
    "print(\"Kazadan kurtulanların bilet fiyatı ortalaması:\", ortalama_fiyat_kurtulan)"
   ]
  },
  {
   "cell_type": "markdown",
   "id": "e9df43ae-def1-47b7-8051-6b41881d7a4b",
   "metadata": {},
   "source": [
    "7- Kazadan kurtulan toplam kişi sayısını bulunuz… (tüyo: len(df_titanic[(df_titanic.Survived==1)] kodu ile de bu sayıya ulaşabilirsiniz.)\n"
   ]
  },
  {
   "cell_type": "code",
   "execution_count": 10,
   "id": "68787417-758a-4517-ba67-c13cd160a8b4",
   "metadata": {},
   "outputs": [
    {
     "name": "stdout",
     "output_type": "stream",
     "text": [
      "Kazadan kurtulan kişi sayısı: 342\n"
     ]
    }
   ],
   "source": [
    "# Kazadan kurtulan toplam kişi sayısı\n",
    "kurtulan_sayi = len(df[df[\"Survived\"] == 1])\n",
    "\n",
    "print(\"Kazadan kurtulan kişi sayısı:\", kurtulan_sayi)"
   ]
  },
  {
   "cell_type": "markdown",
   "id": "14a95b89-b5be-46ec-9da3-76568bdd0d00",
   "metadata": {},
   "source": [
    "8- 10 yaşından küçüklerin bilet fiyatlarının medyan değerini bulunuz"
   ]
  },
  {
   "cell_type": "code",
   "execution_count": 11,
   "id": "2a37095b-e6de-4078-8141-22c08aac9b6a",
   "metadata": {},
   "outputs": [
    {
     "name": "stdout",
     "output_type": "stream",
     "text": [
      "10 yaşından küçüklerin bilet fiyatı medyanı: 27.0\n"
     ]
    }
   ],
   "source": [
    "# 10 yaşından küçük yolcuların bilet fiyatlarının medyanı\n",
    "cocuklar = df[df[\"Age\"] < 10]\n",
    "\n",
    "medyan_fiyat_cocuk = cocuklar[\"Fare\"].median()\n",
    "\n",
    "print(\"10 yaşından küçüklerin bilet fiyatı medyanı:\", medyan_fiyat_cocuk)"
   ]
  },
  {
   "cell_type": "markdown",
   "id": "d979a636-9c79-4be6-ad46-c356670d5cc2",
   "metadata": {},
   "source": [
    "9- 1.sınıf, 2.sınıf ve 3.sınıf bilet fiyatlarının ortalama ve medyanlarını karşılaştırınız. (Pclass değişkeni sınıfları barındırmaktadır.)"
   ]
  },
  {
   "cell_type": "code",
   "execution_count": 12,
   "id": "dfab82f6-db45-4a32-958e-cda2741b86b7",
   "metadata": {},
   "outputs": [
    {
     "name": "stdout",
     "output_type": "stream",
     "text": [
      "             mean   median\n",
      "Pclass                    \n",
      "1       84.154687  60.2875\n",
      "2       20.662183  14.2500\n",
      "3       13.675550   8.0500\n"
     ]
    }
   ],
   "source": [
    "# Her sınıf için ortalama ve medyan bilet fiyatı\n",
    "sinif_karsilastirma = df.groupby(\"Pclass\")[\"Fare\"].agg([\"mean\", \"median\"])\n",
    "\n",
    "print(sinif_karsilastirma)"
   ]
  },
  {
   "cell_type": "markdown",
   "id": "31f9e5e2-fda5-48e7-b7c5-9cf5e636ac01",
   "metadata": {},
   "source": [
    "10- Kazada ölen kadınların oranı ile erkeklerin oranını karşılaştırınız. (Örnek: erkekler için; ölen erkeklerin, erkek sayısına bölümü bu oranı vermektedir."
   ]
  },
  {
   "cell_type": "code",
   "execution_count": 13,
   "id": "15ae0a1e-7de1-4c67-814c-0403c2d68276",
   "metadata": {},
   "outputs": [
    {
     "name": "stdout",
     "output_type": "stream",
     "text": [
      "Kazada ölen kadın oranı: 0.25796178343949044\n",
      "Kazada ölen erkek oranı: 0.8110918544194108\n"
     ]
    }
   ],
   "source": [
    "# Toplam kadın ve erkek sayısı\n",
    "toplam_kadin = len(df[df[\"Sex\"] == \"female\"])\n",
    "toplam_erkek = len(df[df[\"Sex\"] == \"male\"])\n",
    "\n",
    "# Ölen kadın ve erkek sayısı\n",
    "olen_kadin = len(df[(df[\"Sex\"] == \"female\") & (df[\"Survived\"] == 0)])\n",
    "olen_erkek = len(df[(df[\"Sex\"] == \"male\") & (df[\"Survived\"] == 0)])\n",
    "\n",
    "# Oran hesaplaması\n",
    "oran_kadin = olen_kadin / toplam_kadin\n",
    "oran_erkek = olen_erkek / toplam_erkek\n",
    "\n",
    "print(\"Kazada ölen kadın oranı:\", oran_kadin)\n",
    "print(\"Kazada ölen erkek oranı:\", oran_erkek)"
   ]
  }
 ],
 "metadata": {
  "kernelspec": {
   "display_name": "base",
   "language": "python",
   "name": "python3"
  },
  "language_info": {
   "codemirror_mode": {
    "name": "ipython",
    "version": 3
   },
   "file_extension": ".py",
   "mimetype": "text/x-python",
   "name": "python",
   "nbconvert_exporter": "python",
   "pygments_lexer": "ipython3",
   "version": "3.12.7"
  }
 },
 "nbformat": 4,
 "nbformat_minor": 5
}
