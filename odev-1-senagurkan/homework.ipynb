{
 "cells": [
  {
   "cell_type": "code",
   "execution_count": null,
   "metadata": {},
   "outputs": [],
   "source": [
    "## Week 2 - Homework\n",
    "# This notebook contains Python exercises on conditional statements, loops, and functions."
   ]
  },
  {
   "cell_type": "code",
   "execution_count": 1,
   "metadata": {},
   "outputs": [
    {
     "name": "stdout",
     "output_type": "stream",
     "text": [
      "Positive number\n"
     ]
    }
   ],
   "source": [
    "# Task 1: Check if the number is positive, negative, or zero\n",
    "num = int(input(\"Enter a number: \"))\n",
    "\n",
    "if num > 0:\n",
    "    print(\"Positive number\")\n",
    "elif num < 0:\n",
    "    print(\"Negative number\")\n",
    "else:\n",
    "    print(\"Zero\")"
   ]
  },
  {
   "cell_type": "code",
   "execution_count": 2,
   "metadata": {},
   "outputs": [
    {
     "name": "stdout",
     "output_type": "stream",
     "text": [
      "Number is even\n"
     ]
    }
   ],
   "source": [
    "# Task 2: Check if the number is even or odd\n",
    "num = int(input(\"Enter a number: \"))\n",
    "\n",
    "if(num%2 ==0 ):\n",
    "    print(\"Number is even\")\n",
    "else:\n",
    "    print(\"Number is odd\")   "
   ]
  },
  {
   "cell_type": "code",
   "execution_count": 3,
   "metadata": {},
   "outputs": [
    {
     "name": "stdout",
     "output_type": "stream",
     "text": [
      "B\n"
     ]
    }
   ],
   "source": [
    "# Task 3: Determine letter grade based on score\n",
    "score = int(input(\"Enter your score: \"))\n",
    "\n",
    "if 80<= score <=100:\n",
    "    print(\"A\")\n",
    "elif 60<= score <80: \n",
    "    print(\"B\")\n",
    "elif 40 <= score < 60:\n",
    "    print(\"C\")\n",
    "else:\n",
    "    print(\"F\")    \n"
   ]
  },
  {
   "cell_type": "code",
   "execution_count": 7,
   "metadata": {},
   "outputs": [
    {
     "name": "stdout",
     "output_type": "stream",
     "text": [
      "You have a long name.\n"
     ]
    }
   ],
   "source": [
    "# Task 4: Print a message if name length > 5, otherwise print the name\n",
    "name = input(\"Enter your name: \")\n",
    "\n",
    "if len(name) > 5:\n",
    "    print(\"You have a long name.\")\n",
    "else:\n",
    "    print(\"Your name is:\", name)"
   ]
  },
  {
   "cell_type": "code",
   "execution_count": 21,
   "metadata": {},
   "outputs": [
    {
     "name": "stdout",
     "output_type": "stream",
     "text": [
      "Not a prime number\n"
     ]
    }
   ],
   "source": [
    "# Task 5: Check if a number is prime \n",
    "num = int(input(\"Enter a number: \"))\n",
    "is_prime = True\n",
    "\n",
    "if num < 2:\n",
    "    is_prime = False\n",
    "else:\n",
    "    for i in range(2, num):  \n",
    "        if num % i == 0:\n",
    "            is_prime = False\n",
    "            break\n",
    "\n",
    "if is_prime:\n",
    "    print(\"Prime number\")\n",
    "else:\n",
    "    print(\"Not a prime number\")"
   ]
  },
  {
   "cell_type": "code",
   "execution_count": 20,
   "metadata": {},
   "outputs": [
    {
     "name": "stdout",
     "output_type": "stream",
     "text": [
      "Index of 75: 2\n"
     ]
    }
   ],
   "source": [
    "# Task 6: Find the index of 75 in a list\n",
    "grades = [45, 85, 75, 50]\n",
    "\n",
    "i = 0\n",
    "while i < len(grades):\n",
    "    if grades[i] == 75:\n",
    "        print(\"Index of 75:\", i)\n",
    "        break\n",
    "    i += 1"
   ]
  },
  {
   "cell_type": "code",
   "execution_count": 17,
   "metadata": {},
   "outputs": [
    {
     "name": "stdout",
     "output_type": "stream",
     "text": [
      "Factorial (for): 362880\n",
      "Factorial (while): 362880\n"
     ]
    }
   ],
   "source": [
    "# Task 7: Calculate factorial\n",
    "# Using for loop\n",
    "n = int(input(\"Enter a number: \"))\n",
    "fact = 1\n",
    "for i in range(1, n + 1): # range(1, 5)  →  [1, 2, 3, 4]\n",
    "    fact *= i\n",
    "print(\"Factorial (for):\", fact)\n",
    "\n",
    "# Using while loop\n",
    "fact = 1\n",
    "i = 1\n",
    "while i <= n:\n",
    "    fact *= i\n",
    "    i += 1\n",
    "print(\"Factorial (while):\", fact)"
   ]
  },
  {
   "cell_type": "code",
   "execution_count": 16,
   "metadata": {},
   "outputs": [
    {
     "name": "stdout",
     "output_type": "stream",
     "text": [
      "Negative number. Try again.\n",
      "Negative number. Try again.\n",
      "You entered: 99\n"
     ]
    }
   ],
   "source": [
    "# Task 8: Keep asking for a number until it is positive\n",
    "while True:\n",
    "    num = int(input(\"Enter a positive number: \"))\n",
    "    if num > 0:\n",
    "        print(\"You entered:\", num)\n",
    "        break\n",
    "    else:\n",
    "        print(\"Negative number. Try again.\")\n"
   ]
  },
  {
   "cell_type": "code",
   "execution_count": 15,
   "metadata": {},
   "outputs": [
    {
     "name": "stdout",
     "output_type": "stream",
     "text": [
      "Is prime? True\n"
     ]
    }
   ],
   "source": [
    "# Task 9: Prime number check using a function\n",
    "\n",
    "def is_prime(number):\n",
    "    num = 2\n",
    "    if number < 2:\n",
    "        return False\n",
    "    while num<number:\n",
    "        if(number % num == 0):\n",
    "            return False\n",
    "        num+=1\n",
    "    return True\n",
    "\n",
    "num = int(input(\"Enter a number: \"))\n",
    "print(\"Is prime?\", is_prime(num))"
   ]
  },
  {
   "cell_type": "code",
   "execution_count": 9,
   "metadata": {},
   "outputs": [
    {
     "name": "stdout",
     "output_type": "stream",
     "text": [
      "Factorial (for): 720\n",
      "Factorial (while): 720\n"
     ]
    }
   ],
   "source": [
    "# Task 10: Factorial using a function (for and while)\n",
    "def factorial1(n):\n",
    "    result = 1\n",
    "    for i in range(1, n + 1):\n",
    "        result *= i\n",
    "    return result\n",
    "\n",
    "def factorial2(n):\n",
    "    result = 1\n",
    "    i = 1\n",
    "    while i <= n:\n",
    "        result *= i\n",
    "        i += 1\n",
    "    return result\n",
    "\n",
    "num = int(input(\"Enter a number: \"))\n",
    "print(\"Factorial (for):\", factorial1(num))\n",
    "print(\"Factorial (while):\", factorial2(num))"
   ]
  }
 ],
 "metadata": {
  "kernelspec": {
   "display_name": "base",
   "language": "python",
   "name": "python3"
  },
  "language_info": {
   "codemirror_mode": {
    "name": "ipython",
    "version": 3
   },
   "file_extension": ".py",
   "mimetype": "text/x-python",
   "name": "python",
   "nbconvert_exporter": "python",
   "pygments_lexer": "ipython3",
   "version": "3.12.7"
  }
 },
 "nbformat": 4,
 "nbformat_minor": 2
}
